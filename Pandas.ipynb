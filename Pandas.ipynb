{
 "cells": [
  {
   "cell_type": "code",
   "execution_count": 1,
   "metadata": {},
   "outputs": [],
   "source": [
    "import pandas as pd"
   ]
  },
  {
   "cell_type": "code",
   "execution_count": 2,
   "metadata": {},
   "outputs": [],
   "source": [
    "# Create a DataFrame\n",
    "data = {\n",
    "    'fete' : [1, 2, 9, 1],\n",
    "    'baieti' : [0, 3, 4, 4] # same length\n",
    "}\n",
    "df.groupby('a')['b'].apply(list)"
   ]
  },
  {
   "cell_type": "code",
   "execution_count": 3,
   "metadata": {},
   "outputs": [],
   "source": [
    "df = pd.DataFrame(data)"
   ]
  },
  {
   "cell_type": "code",
   "execution_count": 4,
   "metadata": {},
   "outputs": [],
   "source": [
    "df2 = pd.DataFrame(data, index = ['a', 'b', 'c', 'd'])"
   ]
  },
  {
   "cell_type": "code",
   "execution_count": 5,
   "metadata": {},
   "outputs": [],
   "source": [
    "df = pd.read_csv('train.csv', index_col = 'Id')"
   ]
  },
  {
   "cell_type": "code",
   "execution_count": 6,
   "metadata": {},
   "outputs": [
    {
     "name": "stdout",
     "output_type": "stream",
     "text": [
      "(2920, 80)\n",
      "(1460, 80)\n",
      "(1460, 80)\n",
      "(0, 80)\n"
     ]
    }
   ],
   "source": [
    "# Append the rows\n",
    "temp_df = df.append(df)\n",
    "print(temp_df.shape)\n",
    "\n",
    "# Remove duplicates\n",
    "temp_df2 = temp_df.drop_duplicates()\n",
    "print(temp_df2.shape)\n",
    "\n",
    "# Do it inplace\n",
    "# keep = first => keep the first duplicate [DEFAULT]\n",
    "# keep = last => keep the last duplicate\n",
    "# keep = False => remove all duplicates\n",
    "temp_df.drop_duplicates(inplace = True, keep = 'last')\n",
    "print(temp_df.shape)\n",
    "\n",
    "temp_df3 = df.append(df)\n",
    "temp_df3.drop_duplicates(inplace = True, keep = False)\n",
    "print(temp_df3.shape)"
   ]
  },
  {
   "cell_type": "code",
   "execution_count": 7,
   "metadata": {},
   "outputs": [
    {
     "name": "stdout",
     "output_type": "stream",
     "text": [
      "Index(['MSSubClass', 'MSZoning', 'LotFrontage', 'LotArea', 'Street', 'Alley',\n",
      "       'LotShape', 'LandContour', 'Utilities', 'LotConfig', 'LandSlope',\n",
      "       'Neighborhood', 'Condition1', 'Condition2', 'BldgType', 'HouseStyle',\n",
      "       'OverallQual', 'OverallCond', 'YearBuilt', 'YearRemodAdd', 'RoofStyle',\n",
      "       'RoofMatl', 'Exterior1st', 'Exterior2nd', 'MasVnrType', 'MasVnrArea',\n",
      "       'ExterQual', 'ExterCond', 'Foundation', 'BsmtQual', 'BsmtCond',\n",
      "       'BsmtExposure', 'BsmtFinType1', 'BsmtFinSF1', 'BsmtFinType2',\n",
      "       'BsmtFinSF2', 'BsmtUnfSF', 'TotalBsmtSF', 'Heating', 'HeatingQC',\n",
      "       'CentralAir', 'Electrical', '1stFlrSF', '2ndFlrSF', 'LowQualFinSF',\n",
      "       'GrLivArea', 'BsmtFullBath', 'BsmtHalfBath', 'FullBath', 'HalfBath',\n",
      "       'BedroomAbvGr', 'KitchenAbvGr', 'KitchenQual', 'TotRmsAbvGrd',\n",
      "       'Functional', 'Fireplaces', 'FireplaceQu', 'GarageType', 'GarageYrBlt',\n",
      "       'GarageFinish', 'GarageCars', 'GarageArea', 'GarageQual', 'GarageCond',\n",
      "       'PavedDrive', 'WoodDeckSF', 'OpenPorchSF', 'EnclosedPorch', '3SsnPorch',\n",
      "       'ScreenPorch', 'PoolArea', 'PoolQC', 'Fence', 'MiscFeature', 'MiscVal',\n",
      "       'MoSold', 'YrSold', 'SaleType', 'SaleCondition', 'SalePrice'],\n",
      "      dtype='object')\n",
      "Index(['MSSubClass', 'MSZoning', 'LotFrontage', 'LotArea', 'Street', 'Alley',\n",
      "       'LotShape', 'LandContour', 'Utilities', 'LotConfig', 'LandSlope',\n",
      "       'Neighborhood', 'Condition1', 'Condition2', 'BldgType', 'HouseStyle',\n",
      "       'OverallQual', 'OverallCond', 'YearBuilt', 'YearRemodAdd', 'RoofStyle',\n",
      "       'RoofMatl', 'Exterior1st', 'Exterior2nd', 'MasVnrType', 'MasVnrArea',\n",
      "       'ExterQual', 'ExteriorCondition', 'Foundation', 'BsmtQual', 'BsmtCond',\n",
      "       'BsmtExposure', 'BsmtFinType1', 'BsmtFinSF1', 'BsmtFinType2',\n",
      "       'BsmtFinSF2', 'BsmtUnfSF', 'TotalBsmtSF', 'Heating', 'HeatingQC',\n",
      "       'CentralAir', 'Electrical', '1stFlrSF', '2ndFlrSF', 'LowQualFinSF',\n",
      "       'GrLivArea', 'BsmtFullBath', 'BsmtHalfBath', 'FullBath', 'HalfBath',\n",
      "       'BedroomAbvGr', 'KitchenAbvGr', 'KitchenQual', 'TotRmsAbvGrd',\n",
      "       'Functional', 'Fireplaces', 'FireplaceQu', 'GarageType', 'GarageYrBlt',\n",
      "       'GarageFinish', 'GarageCars', 'GarageArea', 'GarageQual', 'GarageCond',\n",
      "       'PavedDrive', 'WoodDeckSF', 'OpenPorchSF', 'EnclosedPorch', '3SsnPorch',\n",
      "       'ScreenPorch', 'PoolArea', 'PoolQC', 'Fence', 'MiscFeature', 'MiscVal',\n",
      "       'MethSold', 'YrSold', 'SaleType', 'SaleCondition', 'SalePrice'],\n",
      "      dtype='object')\n",
      "Index(['mssubclass', 'mszoning', 'lotfrontage', 'lotarea', 'street', 'alley',\n",
      "       'lotshape', 'landcontour', 'utilities', 'lotconfig', 'landslope',\n",
      "       'neighborhood', 'condition1', 'condition2', 'bldgtype', 'housestyle',\n",
      "       'overallqual', 'overallcond', 'yearbuilt', 'yearremodadd', 'roofstyle',\n",
      "       'roofmatl', 'exterior1st', 'exterior2nd', 'masvnrtype', 'masvnrarea',\n",
      "       'exterqual', 'exteriorcondition', 'foundation', 'bsmtqual', 'bsmtcond',\n",
      "       'bsmtexposure', 'bsmtfintype1', 'bsmtfinsf1', 'bsmtfintype2',\n",
      "       'bsmtfinsf2', 'bsmtunfsf', 'totalbsmtsf', 'heating', 'heatingqc',\n",
      "       'centralair', 'electrical', '1stflrsf', '2ndflrsf', 'lowqualfinsf',\n",
      "       'grlivarea', 'bsmtfullbath', 'bsmthalfbath', 'fullbath', 'halfbath',\n",
      "       'bedroomabvgr', 'kitchenabvgr', 'kitchenqual', 'totrmsabvgrd',\n",
      "       'functional', 'fireplaces', 'fireplacequ', 'garagetype', 'garageyrblt',\n",
      "       'garagefinish', 'garagecars', 'garagearea', 'garagequal', 'garagecond',\n",
      "       'paveddrive', 'wooddecksf', 'openporchsf', 'enclosedporch', '3ssnporch',\n",
      "       'screenporch', 'poolarea', 'poolqc', 'fence', 'miscfeature', 'miscval',\n",
      "       'methsold', 'yrsold', 'saletype', 'salecondition', 'saleprice'],\n",
      "      dtype='object')\n"
     ]
    }
   ],
   "source": [
    "# Columns\n",
    "print(df.columns)\n",
    "\n",
    "# Rename some of the columns via a dictionary\n",
    "df.rename(columns = {\n",
    "    'ExterCond': 'ExteriorCondition',\n",
    "    'MoSold': 'MethSold'\n",
    "}, inplace = True)\n",
    "\n",
    "print(df.columns)\n",
    "\n",
    "# We can also set the name of the columns by a list\n",
    "df.columns = [col.lower() for col in df]\n",
    "\n",
    "print(df.columns)"
   ]
  },
  {
   "cell_type": "code",
   "execution_count": 8,
   "metadata": {},
   "outputs": [],
   "source": [
    "\"\"\" Missing values \"\"\"\n",
    "df.isnull() # if NaN or None\n",
    "df.isnull().sum() # sum of nulls in each col\n",
    "\n",
    "# Drop rows with at least a null\n",
    "df.dropna()\n",
    "\n",
    "# Drop columns with at least a null\n",
    "df.dropna(axis = 'columns')\n",
    "\n",
    "for i, _ in df.iterrows():\n",
    "    df.at[i, 'poolqc'] = int(i)\n",
    "    if i > 150:\n",
    "        break\n",
    "\n",
    "df.fillna(6, inplace = True)"
   ]
  },
  {
   "cell_type": "code",
   "execution_count": 9,
   "metadata": {},
   "outputs": [
    {
     "data": {
      "text/plain": [
       "mssubclass      -0.084284\n",
       "lotarea          0.263843\n",
       "overallqual      0.790982\n",
       "overallcond     -0.077856\n",
       "yearbuilt        0.522897\n",
       "yearremodadd     0.507101\n",
       "bsmtfinsf1       0.386420\n",
       "bsmtfinsf2      -0.011378\n",
       "bsmtunfsf        0.214479\n",
       "totalbsmtsf      0.613581\n",
       "1stflrsf         0.605852\n",
       "2ndflrsf         0.319334\n",
       "lowqualfinsf    -0.025606\n",
       "grlivarea        0.708624\n",
       "bsmtfullbath     0.227122\n",
       "bsmthalfbath    -0.016844\n",
       "fullbath         0.560664\n",
       "halfbath         0.284108\n",
       "bedroomabvgr     0.168213\n",
       "kitchenabvgr    -0.135907\n",
       "totrmsabvgrd     0.533723\n",
       "fireplaces       0.466929\n",
       "garagecars       0.640409\n",
       "garagearea       0.623431\n",
       "wooddecksf       0.324413\n",
       "openporchsf      0.315856\n",
       "enclosedporch   -0.128578\n",
       "3ssnporch        0.044584\n",
       "screenporch      0.111447\n",
       "poolarea         0.092404\n",
       "miscval         -0.021190\n",
       "methsold         0.046432\n",
       "yrsold          -0.028923\n",
       "saleprice        1.000000\n",
       "Name: saleprice, dtype: float64"
      ]
     },
     "execution_count": 9,
     "metadata": {},
     "output_type": "execute_result"
    }
   ],
   "source": [
    "df.describe()\n",
    "df['overallcond'].value_counts().head(10)\n",
    "\n",
    "df.dtypes\n",
    "dfi64 = df.select_dtypes(include = 'int64')\n",
    "\n",
    "dfi64.corr()['saleprice']"
   ]
  },
  {
   "cell_type": "code",
   "execution_count": 11,
   "metadata": {},
   "outputs": [
    {
     "name": "stdout",
     "output_type": "stream",
     "text": [
      "    mssubclass mszoning  lotfrontage  lotarea street alley lotshape  \\\n",
      "Id                                                                    \n",
      "1           60       RL         65.0     8450   Pave     6      Reg   \n",
      "2           20       RL         80.0     9600   Pave     6      Reg   \n",
      "3           60       RL         68.0    11250   Pave     6      IR1   \n",
      "\n",
      "   landcontour utilities lotconfig  ... poolqc fence miscfeature miscval  \\\n",
      "Id                                  ...                                    \n",
      "1          Lvl    AllPub    Inside  ...      1     6           6       0   \n",
      "2          Lvl    AllPub       FR2  ...      2     6           6       0   \n",
      "3          Lvl    AllPub    Inside  ...      3     6           6       0   \n",
      "\n",
      "   methsold yrsold  saletype  salecondition  saleprice  priceexpensive  \n",
      "Id                                                                      \n",
      "1         2   2008        WD         Normal     208500           Cheap  \n",
      "2         5   2007        WD         Normal     181500           Cheap  \n",
      "3         9   2008        WD         Normal     223500           Cheap  \n",
      "\n",
      "[3 rows x 81 columns]\n",
      "    mssubclass mszoning  lotfrontage  lotarea street alley lotshape  \\\n",
      "Id                                                                    \n",
      "1           60       RL         65.0     8450   Pave     6      Reg   \n",
      "2           20       RL         80.0     9600   Pave     6      Reg   \n",
      "3           60       RL         68.0    11250   Pave     6      IR1   \n",
      "\n",
      "   landcontour utilities lotconfig  ... poolqc fence miscfeature miscval  \\\n",
      "Id                                  ...                                    \n",
      "1          Lvl    AllPub    Inside  ...      1     6           6       0   \n",
      "2          Lvl    AllPub       FR2  ...      2     6           6       0   \n",
      "3          Lvl    AllPub    Inside  ...      3     6           6       0   \n",
      "\n",
      "   methsold yrsold  saletype  salecondition  saleprice  priceexpensive  \n",
      "Id                                                                      \n",
      "1         2   2008        WD         Normal     208500           Cheap  \n",
      "2         5   2007        WD         Normal     181500           Cheap  \n",
      "3         9   2008        WD         Normal     223500           Cheap  \n",
      "\n",
      "[3 rows x 81 columns]\n"
     ]
    },
    {
     "data": {
      "text/html": [
       "<div>\n",
       "<style scoped>\n",
       "    .dataframe tbody tr th:only-of-type {\n",
       "        vertical-align: middle;\n",
       "    }\n",
       "\n",
       "    .dataframe tbody tr th {\n",
       "        vertical-align: top;\n",
       "    }\n",
       "\n",
       "    .dataframe thead th {\n",
       "        text-align: right;\n",
       "    }\n",
       "</style>\n",
       "<table border=\"1\" class=\"dataframe\">\n",
       "  <thead>\n",
       "    <tr style=\"text-align: right;\">\n",
       "      <th></th>\n",
       "      <th>mssubclass</th>\n",
       "      <th>mszoning</th>\n",
       "      <th>lotfrontage</th>\n",
       "      <th>lotarea</th>\n",
       "      <th>street</th>\n",
       "      <th>alley</th>\n",
       "      <th>lotshape</th>\n",
       "      <th>landcontour</th>\n",
       "      <th>utilities</th>\n",
       "      <th>lotconfig</th>\n",
       "      <th>...</th>\n",
       "      <th>poolqc</th>\n",
       "      <th>fence</th>\n",
       "      <th>miscfeature</th>\n",
       "      <th>miscval</th>\n",
       "      <th>methsold</th>\n",
       "      <th>yrsold</th>\n",
       "      <th>saletype</th>\n",
       "      <th>salecondition</th>\n",
       "      <th>saleprice</th>\n",
       "      <th>priceexpensive</th>\n",
       "    </tr>\n",
       "    <tr>\n",
       "      <th>Id</th>\n",
       "      <th></th>\n",
       "      <th></th>\n",
       "      <th></th>\n",
       "      <th></th>\n",
       "      <th></th>\n",
       "      <th></th>\n",
       "      <th></th>\n",
       "      <th></th>\n",
       "      <th></th>\n",
       "      <th></th>\n",
       "      <th></th>\n",
       "      <th></th>\n",
       "      <th></th>\n",
       "      <th></th>\n",
       "      <th></th>\n",
       "      <th></th>\n",
       "      <th></th>\n",
       "      <th></th>\n",
       "      <th></th>\n",
       "      <th></th>\n",
       "      <th></th>\n",
       "    </tr>\n",
       "  </thead>\n",
       "  <tbody>\n",
       "    <tr>\n",
       "      <th>1</th>\n",
       "      <td>60</td>\n",
       "      <td>RL</td>\n",
       "      <td>65.0</td>\n",
       "      <td>8450</td>\n",
       "      <td>Pave</td>\n",
       "      <td>6</td>\n",
       "      <td>Reg</td>\n",
       "      <td>Lvl</td>\n",
       "      <td>AllPub</td>\n",
       "      <td>Inside</td>\n",
       "      <td>...</td>\n",
       "      <td>1</td>\n",
       "      <td>6</td>\n",
       "      <td>6</td>\n",
       "      <td>0</td>\n",
       "      <td>2</td>\n",
       "      <td>2008</td>\n",
       "      <td>WD</td>\n",
       "      <td>Normal</td>\n",
       "      <td>208500</td>\n",
       "      <td>Cheap</td>\n",
       "    </tr>\n",
       "    <tr>\n",
       "      <th>2</th>\n",
       "      <td>20</td>\n",
       "      <td>RL</td>\n",
       "      <td>80.0</td>\n",
       "      <td>9600</td>\n",
       "      <td>Pave</td>\n",
       "      <td>6</td>\n",
       "      <td>Reg</td>\n",
       "      <td>Lvl</td>\n",
       "      <td>AllPub</td>\n",
       "      <td>FR2</td>\n",
       "      <td>...</td>\n",
       "      <td>2</td>\n",
       "      <td>6</td>\n",
       "      <td>6</td>\n",
       "      <td>0</td>\n",
       "      <td>5</td>\n",
       "      <td>2007</td>\n",
       "      <td>WD</td>\n",
       "      <td>Normal</td>\n",
       "      <td>181500</td>\n",
       "      <td>Cheap</td>\n",
       "    </tr>\n",
       "    <tr>\n",
       "      <th>3</th>\n",
       "      <td>60</td>\n",
       "      <td>RL</td>\n",
       "      <td>68.0</td>\n",
       "      <td>11250</td>\n",
       "      <td>Pave</td>\n",
       "      <td>6</td>\n",
       "      <td>IR1</td>\n",
       "      <td>Lvl</td>\n",
       "      <td>AllPub</td>\n",
       "      <td>Inside</td>\n",
       "      <td>...</td>\n",
       "      <td>3</td>\n",
       "      <td>6</td>\n",
       "      <td>6</td>\n",
       "      <td>0</td>\n",
       "      <td>9</td>\n",
       "      <td>2008</td>\n",
       "      <td>WD</td>\n",
       "      <td>Normal</td>\n",
       "      <td>223500</td>\n",
       "      <td>Cheap</td>\n",
       "    </tr>\n",
       "    <tr>\n",
       "      <th>4</th>\n",
       "      <td>70</td>\n",
       "      <td>RL</td>\n",
       "      <td>60.0</td>\n",
       "      <td>9550</td>\n",
       "      <td>Pave</td>\n",
       "      <td>6</td>\n",
       "      <td>IR1</td>\n",
       "      <td>Lvl</td>\n",
       "      <td>AllPub</td>\n",
       "      <td>Corner</td>\n",
       "      <td>...</td>\n",
       "      <td>4</td>\n",
       "      <td>6</td>\n",
       "      <td>6</td>\n",
       "      <td>0</td>\n",
       "      <td>2</td>\n",
       "      <td>2006</td>\n",
       "      <td>WD</td>\n",
       "      <td>Abnorml</td>\n",
       "      <td>140000</td>\n",
       "      <td>Cheap</td>\n",
       "    </tr>\n",
       "    <tr>\n",
       "      <th>5</th>\n",
       "      <td>60</td>\n",
       "      <td>RL</td>\n",
       "      <td>84.0</td>\n",
       "      <td>14260</td>\n",
       "      <td>Pave</td>\n",
       "      <td>6</td>\n",
       "      <td>IR1</td>\n",
       "      <td>Lvl</td>\n",
       "      <td>AllPub</td>\n",
       "      <td>FR2</td>\n",
       "      <td>...</td>\n",
       "      <td>5</td>\n",
       "      <td>6</td>\n",
       "      <td>6</td>\n",
       "      <td>0</td>\n",
       "      <td>12</td>\n",
       "      <td>2008</td>\n",
       "      <td>WD</td>\n",
       "      <td>Normal</td>\n",
       "      <td>250000</td>\n",
       "      <td>Cheap</td>\n",
       "    </tr>\n",
       "  </tbody>\n",
       "</table>\n",
       "<p>5 rows × 81 columns</p>\n",
       "</div>"
      ],
      "text/plain": [
       "    mssubclass mszoning  lotfrontage  lotarea street alley lotshape  \\\n",
       "Id                                                                    \n",
       "1           60       RL         65.0     8450   Pave     6      Reg   \n",
       "2           20       RL         80.0     9600   Pave     6      Reg   \n",
       "3           60       RL         68.0    11250   Pave     6      IR1   \n",
       "4           70       RL         60.0     9550   Pave     6      IR1   \n",
       "5           60       RL         84.0    14260   Pave     6      IR1   \n",
       "\n",
       "   landcontour utilities lotconfig  ... poolqc fence miscfeature miscval  \\\n",
       "Id                                  ...                                    \n",
       "1          Lvl    AllPub    Inside  ...      1     6           6       0   \n",
       "2          Lvl    AllPub       FR2  ...      2     6           6       0   \n",
       "3          Lvl    AllPub    Inside  ...      3     6           6       0   \n",
       "4          Lvl    AllPub    Corner  ...      4     6           6       0   \n",
       "5          Lvl    AllPub       FR2  ...      5     6           6       0   \n",
       "\n",
       "   methsold yrsold  saletype  salecondition  saleprice  priceexpensive  \n",
       "Id                                                                      \n",
       "1         2   2008        WD         Normal     208500           Cheap  \n",
       "2         5   2007        WD         Normal     181500           Cheap  \n",
       "3         9   2008        WD         Normal     223500           Cheap  \n",
       "4         2   2006        WD        Abnorml     140000           Cheap  \n",
       "5        12   2008        WD         Normal     250000           Cheap  \n",
       "\n",
       "[5 rows x 81 columns]"
      ]
     },
     "execution_count": 11,
     "metadata": {},
     "output_type": "execute_result"
    }
   ],
   "source": [
    "\"\"\" Manipulation \"\"\"\n",
    "\n",
    "# Extract column as Series\n",
    "df_sp_ser = df['saleprice']\n",
    "\n",
    "# Extract column as DataFrame\n",
    "df_sp_df = df[['saleprice']]\n",
    "\n",
    "# Get row by name of index\n",
    "df.loc[3] # In our case, the indices are ints and start with 1\n",
    "df.iloc[2] # Same as above, since real index starts at 0\n",
    "\n",
    "# Get slice\n",
    "print(df.loc[1 : 3]) # Includes end\n",
    "print(df.iloc[0 : 3]) # Does not include end\n",
    "\n",
    "# Conditions\n",
    "condition = (df['saleprice'] >= 500000) # It's just True or False in each cell\n",
    "condition.head()\n",
    "\n",
    "df[df['saleprice'] >= 500000]\n",
    "df[(df['saleprice'] >= 500000) & (df['saleprice'] < 600000)]\n",
    "df[df['lotconfig'] == 'Inside']\n",
    "df[df['lotconfig'].isin(['Inside', 'IR1'])]\n",
    "\n",
    "# Apply function\n",
    "def is_expensive(price):\n",
    "    if price >= 500000:\n",
    "        return 'Expensive'\n",
    "    \n",
    "    return 'Cheap'\n",
    "\n",
    "# Create a new column as the result of our function applied on another\n",
    "df['priceexpensive'] = df['saleprice'].apply(is_expensive)\n",
    "\n",
    "df.head(5)"
   ]
  },
  {
   "cell_type": "code",
   "execution_count": 21,
   "metadata": {},
   "outputs": [
    {
     "data": {
      "image/png": "[encoded data removed]",
      "text/plain": [
       "<Figure size 432x288 with 1 Axes>"
      ]
     },
     "metadata": {
      "needs_background": "light"
     },
     "output_type": "display_data"
    }
   ],
   "source": [
    "# Plotting\n",
    "df.plot(kind = 'scatter', y = 'lotarea', x = 'saleprice');\n",
    "df['saleprice'].plot(kind = 'hist', bins = 100);"
   ]
  },
  {
   "cell_type": "code",
   "execution_count": 22,
   "metadata": {},
   "outputs": [
    {
     "data": {
      "text/plain": [
       "<matplotlib.axes._subplots.AxesSubplot at 0x7f8f6db19748>"
      ]
     },
     "execution_count": 22,
     "metadata": {},
     "output_type": "execute_result"
    },
    {
     "data": {
      "image/png": "[encoded data removed]",
      "text/plain": [
       "<Figure size 432x288 with 1 Axes>"
      ]
     },
     "metadata": {
      "needs_background": "light"
     },
     "output_type": "display_data"
    }
   ],
   "source": [
    "df['saleprice'].plot(kind = 'box')"
   ]
  },
  {
   "cell_type": "code",
   "execution_count": 24,
   "metadata": {},
   "outputs": [
    {
     "data": {
      "image/png": "[encoded data removed]",
      "text/plain": [
       "<Figure size 432x288 with 1 Axes>"
      ]
     },
     "metadata": {
      "needs_background": "light"
     },
     "output_type": "display_data"
    }
   ],
   "source": [
    "df.boxplot(column = 'saleprice', by = 'priceexpensive');"
   ]
  }
 ],
 "metadata": {
  "kernelspec": {
   "display_name": "Python 3",
   "language": "python",
   "name": "python3"
  },
  "language_info": {
   "codemirror_mode": {
    "name": "ipython",
    "version": 3
   },
   "file_extension": ".py",
   "mimetype": "text/x-python",
   "name": "python",
   "nbconvert_exporter": "python",
   "pygments_lexer": "ipython3",
   "version": "3.7.3"
  }
 },
 "nbformat": 4,
 "nbformat_minor": 2
}
